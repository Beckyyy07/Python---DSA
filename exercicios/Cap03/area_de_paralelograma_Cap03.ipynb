{
 "cells": [
  {
   "cell_type": "markdown",
   "id": "b7f03f75",
   "metadata": {},
   "source": [
    "#Inicie \n",
    "\n",
    "Exiba \"Bem-vindo ao Calculador de Área de Paralelogramo\"\n",
    "Peça para o usuário inserir o comprimento da base\n",
    "Armazene o comprimento da base em uma variável\n",
    "Peça para o usuário inserir a altura\n",
    "Armazena a altura em uma variável\n",
    "Calcule a área do paralelogramo: (Base * Altura)\n",
    "Armazene o resultado em uma variável\n",
    "Exiba o resultado\n",
    "\n",
    "FIM"
   ]
  },
  {
   "cell_type": "code",
   "execution_count": 2,
   "id": "45b45dfc",
   "metadata": {},
   "outputs": [
    {
     "name": "stdout",
     "output_type": "stream",
     "text": [
      "Bem-vindo ao Calculador de Área de Paralelogramo\n"
     ]
    }
   ],
   "source": [
    "print (\"Bem-vindo ao Calculador de Área de Paralelogramo\")"
   ]
  },
  {
   "cell_type": "code",
   "execution_count": 4,
   "id": "1d261f0e",
   "metadata": {},
   "outputs": [
    {
     "name": "stdout",
     "output_type": "stream",
     "text": [
      "Informe o valor da base do Paralelogramo: 15\n"
     ]
    }
   ],
   "source": [
    "base = float (input(\"Informe o valor da base do Paralelogramo: \"))"
   ]
  },
  {
   "cell_type": "code",
   "execution_count": 6,
   "id": "b3325658",
   "metadata": {},
   "outputs": [
    {
     "name": "stdout",
     "output_type": "stream",
     "text": [
      "Informe o valor da altura do Paralelogramo: 2\n"
     ]
    }
   ],
   "source": [
    "altura = float (input(\"Informe o valor da altura do Paralelogramo: \"))"
   ]
  },
  {
   "cell_type": "code",
   "execution_count": 7,
   "id": "bac8de65",
   "metadata": {},
   "outputs": [],
   "source": [
    "area = base * altura"
   ]
  },
  {
   "cell_type": "code",
   "execution_count": 8,
   "id": "157869a8",
   "metadata": {},
   "outputs": [
    {
     "name": "stdout",
     "output_type": "stream",
     "text": [
      "A área do paralelogramo é:  30.0\n"
     ]
    }
   ],
   "source": [
    "print (\"A área do paralelogramo é: \", area)"
   ]
  }
 ],
 "metadata": {
  "kernelspec": {
   "display_name": "Python 3 (ipykernel)",
   "language": "python",
   "name": "python3"
  },
  "language_info": {
   "codemirror_mode": {
    "name": "ipython",
    "version": 3
   },
   "file_extension": ".py",
   "mimetype": "text/x-python",
   "name": "python",
   "nbconvert_exporter": "python",
   "pygments_lexer": "ipython3",
   "version": "3.11.5"
  }
 },
 "nbformat": 4,
 "nbformat_minor": 5
}
