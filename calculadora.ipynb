{
 "cells": [
  {
   "cell_type": "markdown",
   "id": "12370227",
   "metadata": {},
   "source": [
    "Inicie\n",
    "\n",
    "Exiba \"Bem-vindo à Calculadora\"\n",
    "Peça para o usuário inserir o primeiro número\n",
    "Armazene o primeiro número em uma variável\n",
    "Peça para o usuário inserir o segundo número\n",
    "Armazene o segundo número em uma variável\n",
    "Peça para o usuário selecionar uma operação (+, -, *, /)\n",
    "Armazene a operação em uma variável\n",
    "Utilize a operação selecionada e os números armazenados fara realizar o cálculo\n",
    "Exiba o resultado\n",
    "\n",
    "FIM"
   ]
  },
  {
   "cell_type": "code",
   "execution_count": 1,
   "id": "4e283bdd",
   "metadata": {},
   "outputs": [
    {
     "name": "stdout",
     "output_type": "stream",
     "text": [
      "Bem vindo à calculadora\n"
     ]
    }
   ],
   "source": [
    "print (\"Bem vindo à calculadora\")"
   ]
  },
  {
   "cell_type": "code",
   "execution_count": 2,
   "id": "5fccba6c",
   "metadata": {},
   "outputs": [
    {
     "name": "stdout",
     "output_type": "stream",
     "text": [
      "Insira o primeiro número: 5\n"
     ]
    }
   ],
   "source": [
    "num1 = float(input(\"Insira o primeiro número: \"))"
   ]
  },
  {
   "cell_type": "code",
   "execution_count": 3,
   "id": "65b4937b",
   "metadata": {},
   "outputs": [
    {
     "name": "stdout",
     "output_type": "stream",
     "text": [
      "Insira o segundo número: 5\n"
     ]
    }
   ],
   "source": [
    "num2 = float(input(\"Insira o segundo número: \"))"
   ]
  },
  {
   "cell_type": "code",
   "execution_count": 4,
   "id": "34cb5c40",
   "metadata": {},
   "outputs": [
    {
     "name": "stdout",
     "output_type": "stream",
     "text": [
      "Selecione uma operação (+, -, *, /)*\n"
     ]
    }
   ],
   "source": [
    "operacao = input (\"Selecione uma operação (+, -, *, /)\")"
   ]
  },
  {
   "cell_type": "code",
   "execution_count": 5,
   "id": "be02d1c8",
   "metadata": {},
   "outputs": [
    {
     "name": "stdout",
     "output_type": "stream",
     "text": [
      "O resultado é:  25.0\n",
      "Operação inválida\n"
     ]
    }
   ],
   "source": [
    "if operacao == \"+\":\n",
    "    resultado = num1 + num2\n",
    "    print(\"O resultado é: \", resultado)\n",
    "    \n",
    "elif operacao == \"-\":\n",
    "    resultado = num1 - num2\n",
    "    print(\"O resultado é: \", resultado)   \n",
    "    \n",
    "elif operacao == \"*\":\n",
    "    resultado = num1 * num2\n",
    "    print(\"O resultado é: \", resultado)\n",
    "    \n",
    "elif operacao == \"/\":\n",
    "    resultado = num1 / num2\n",
    "    print(\"O resultado é: \", resultado)\n",
    "\n",
    "else:\n",
    "    print (\"Operação inválida\")"
   ]
  },
  {
   "cell_type": "code",
   "execution_count": null,
   "id": "195bf08d",
   "metadata": {},
   "outputs": [],
   "source": []
  }
 ],
 "metadata": {
  "kernelspec": {
   "display_name": "Python 3 (ipykernel)",
   "language": "python",
   "name": "python3"
  },
  "language_info": {
   "codemirror_mode": {
    "name": "ipython",
    "version": 3
   },
   "file_extension": ".py",
   "mimetype": "text/x-python",
   "name": "python",
   "nbconvert_exporter": "python",
   "pygments_lexer": "ipython3",
   "version": "3.11.5"
  }
 },
 "nbformat": 4,
 "nbformat_minor": 5
}
